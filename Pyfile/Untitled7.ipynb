{
 "cells": [
  {
   "cell_type": "code",
   "execution_count": 49,
   "id": "bc0d9383",
   "metadata": {},
   "outputs": [
    {
     "name": "stderr",
     "output_type": "stream",
     "text": [
      "[nltk_data] Downloading package stopwords to\n",
      "[nltk_data]     C:\\Users\\Abhi\\AppData\\Roaming\\nltk_data...\n",
      "[nltk_data]   Package stopwords is already up-to-date!\n"
     ]
    }
   ],
   "source": [
    "import nltk\n",
    "nltk.download('stopwords')\n",
    "# from nltk.corpus import stopwords\n",
    "from nltk.tokenize import word_tokenize"
   ]
  },
  {
   "cell_type": "code",
   "execution_count": 50,
   "id": "63749ca9",
   "metadata": {},
   "outputs": [],
   "source": [
    "sent = \"I . ,love NLP ! We are using A Python\"\n",
    "sent = sent.lower()"
   ]
  },
  {
   "cell_type": "code",
   "execution_count": 51,
   "id": "1d2d2584",
   "metadata": {},
   "outputs": [
    {
     "data": {
      "text/plain": [
       "['love', 'nlp', 'using', 'python']"
      ]
     },
     "execution_count": 51,
     "metadata": {},
     "output_type": "execute_result"
    }
   ],
   "source": [
    "import string\n",
    "punctuation = string.punctuation\n",
    "txt = \"\"\n",
    "for w in sent:\n",
    "    if w not in punctuation:\n",
    "        txt = txt+w\n",
    "sent = txt     \n",
    "tokens = word_tokenize(sent)\n",
    "txt\n",
    "\n",
    "stop_words = set(stopwords.words('english'))\n",
    "\n",
    "temp=[]\n",
    "for w in tokens:\n",
    "    if w not in stop_words:\n",
    "        temp.append(w)\n",
    "tokens = temp\n",
    "        \n",
    "tokens"
   ]
  },
  {
   "cell_type": "code",
   "execution_count": 52,
   "id": "91f85560",
   "metadata": {},
   "outputs": [
    {
     "data": {
      "text/plain": [
       "['love', 'nlp', 'using', 'python']"
      ]
     },
     "execution_count": 52,
     "metadata": {},
     "output_type": "execute_result"
    }
   ],
   "source": [
    "tokens"
   ]
  },
  {
   "cell_type": "code",
   "execution_count": 53,
   "id": "067d3727",
   "metadata": {},
   "outputs": [
    {
     "data": {
      "text/plain": [
       "'rock'"
      ]
     },
     "execution_count": 53,
     "metadata": {},
     "output_type": "execute_result"
    }
   ],
   "source": [
    "from nltk.stem import WordNetLemmatizer\n",
    "lemmatizer = WordNetLemmatizer()\n",
    "lemmatizer.lemmatize(\"rocks\")\n",
    "# print(lemmatizer.lemmatize(\"better\", pos=\"a\"))"
   ]
  },
  {
   "cell_type": "code",
   "execution_count": 58,
   "id": "390cef39",
   "metadata": {},
   "outputs": [
    {
     "data": {
      "text/plain": [
       "'show'"
      ]
     },
     "execution_count": 58,
     "metadata": {},
     "output_type": "execute_result"
    }
   ],
   "source": [
    "from nltk.stem import PorterStemmer\n",
    "stemmer = PorterStemmer()\n",
    "stemmer.stem('Showing')"
   ]
  },
  {
   "cell_type": "code",
   "execution_count": 66,
   "id": "534d262d",
   "metadata": {},
   "outputs": [
    {
     "name": "stdout",
     "output_type": "stream",
     "text": [
      "TF-IDF Matrix:\n",
      " [[0.30620672 0.         0.         0.         0.36399815 0.\n",
      "  0.30620672 0.43850426 0.43850426 0.         0.         0.54351473\n",
      "  0.         0.        ]\n",
      " [0.         0.         0.         0.49389914 0.33077001 0.\n",
      "  0.         0.         0.39847472 0.49389914 0.         0.\n",
      "  0.         0.49389914]\n",
      " [0.29550385 0.         0.52451722 0.         0.         0.52451722\n",
      "  0.29550385 0.         0.         0.         0.52451722 0.\n",
      "  0.         0.        ]\n",
      " [0.31309104 0.         0.         0.         0.         0.\n",
      "  0.62618207 0.44836297 0.         0.         0.         0.\n",
      "  0.55573434 0.        ]\n",
      " [0.39032474 0.69282362 0.         0.         0.46399205 0.\n",
      "  0.39032474 0.         0.         0.         0.         0.\n",
      "  0.         0.        ]]\n"
     ]
    }
   ],
   "source": [
    "from sklearn.feature_extraction.text import TfidfVectorizer\n",
    "corpus = ['quick brown fox jumps lazy dog', 'lazy dog likes sleep day', 'brown fox prefers eat cheese', 'red fox jumps brown fox', 'brown dog chases fox'\n",
    "         ]\n",
    "#preprocess the text\n",
    "vectorizer = TfidfVectorizer()\n",
    "vectorizer.fit(corpus)\n",
    "tf_idf_matrix = vectorizer.transform(corpus)\n",
    "# Print the resulting matrix\n",
    "print(\"TF-IDF Matrix:\\n\",tf_idf_matrix.toarray())"
   ]
  },
  {
   "cell_type": "code",
   "execution_count": 65,
   "id": "e2808efa",
   "metadata": {},
   "outputs": [
    {
     "name": "stderr",
     "output_type": "stream",
     "text": [
      "[nltk_data] Downloading package stopwords to\n",
      "[nltk_data]     C:\\Users\\Abhi\\AppData\\Roaming\\nltk_data...\n",
      "[nltk_data]   Package stopwords is already up-to-date!\n"
     ]
    }
   ],
   "source": [
    "import nltk\n",
    "from nltk.stem import WordNetLemmatizer\n",
    "from nltk.stem import PorterStemmer\n",
    "from nltk.tokenize import word_tokenize\n",
    "nltk.download('stopwords')\n",
    "from nltk.corpus import stopwords\n",
    "from sklearn.feature_extraction.text import TfidfVectorizer"
   ]
  },
  {
   "cell_type": "code",
   "execution_count": null,
   "id": "9175ee30",
   "metadata": {},
   "outputs": [],
   "source": []
  }
 ],
 "metadata": {
  "kernelspec": {
   "display_name": "Python 3",
   "language": "python",
   "name": "python3"
  },
  "language_info": {
   "codemirror_mode": {
    "name": "ipython",
    "version": 3
   },
   "file_extension": ".py",
   "mimetype": "text/x-python",
   "name": "python",
   "nbconvert_exporter": "python",
   "pygments_lexer": "ipython3",
   "version": "3.8.8"
  }
 },
 "nbformat": 4,
 "nbformat_minor": 5
}
